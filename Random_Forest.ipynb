{
 "cells": [
  {
   "cell_type": "markdown",
   "metadata": {},
   "source": [
    "# Breast Cancer Prediction Using Machine Learning"
   ]
  },
  {
   "cell_type": "code",
   "execution_count": 14,
   "metadata": {},
   "outputs": [],
   "source": [
    "import numpy as np\n",
    "import pandas as pd\n",
    "import seaborn as sns\n",
    "import matplotlib.pyplot as plt\n",
    "from sklearn.model_selection import train_test_split\n",
    "from sklearn.ensemble import RandomForestClassifier\n",
    "from sklearn.metrics import accuracy_score"
   ]
  },
  {
   "cell_type": "code",
   "execution_count": 15,
   "metadata": {},
   "outputs": [],
   "source": [
    "df = pd.read_csv(\"data2.csv\")"
   ]
  },
  {
   "cell_type": "code",
   "execution_count": 16,
   "metadata": {},
   "outputs": [
    {
     "data": {
      "text/html": [
       "<div>\n",
       "<style scoped>\n",
       "    .dataframe tbody tr th:only-of-type {\n",
       "        vertical-align: middle;\n",
       "    }\n",
       "\n",
       "    .dataframe tbody tr th {\n",
       "        vertical-align: top;\n",
       "    }\n",
       "\n",
       "    .dataframe thead th {\n",
       "        text-align: right;\n",
       "    }\n",
       "</style>\n",
       "<table border=\"1\" class=\"dataframe\">\n",
       "  <thead>\n",
       "    <tr style=\"text-align: right;\">\n",
       "      <th></th>\n",
       "      <th>Unnamed: 0</th>\n",
       "      <th>diagnosis</th>\n",
       "      <th>radius_mean</th>\n",
       "      <th>texture_mean</th>\n",
       "      <th>perimeter_mean</th>\n",
       "      <th>area_mean</th>\n",
       "      <th>smoothness_mean</th>\n",
       "      <th>compactness_mean</th>\n",
       "      <th>concavity_mean</th>\n",
       "      <th>concave points_mean</th>\n",
       "      <th>...</th>\n",
       "      <th>texture_worst</th>\n",
       "      <th>perimeter_worst</th>\n",
       "      <th>area_worst</th>\n",
       "      <th>smoothness_worst</th>\n",
       "      <th>compactness_worst</th>\n",
       "      <th>concavity_worst</th>\n",
       "      <th>concave points_worst</th>\n",
       "      <th>symmetry_worst</th>\n",
       "      <th>fractal_dimension_worst</th>\n",
       "      <th>precondition</th>\n",
       "    </tr>\n",
       "  </thead>\n",
       "  <tbody>\n",
       "    <tr>\n",
       "      <th>0</th>\n",
       "      <td>0</td>\n",
       "      <td>M</td>\n",
       "      <td>18.770</td>\n",
       "      <td>21.43</td>\n",
       "      <td>122.90</td>\n",
       "      <td>1092.0</td>\n",
       "      <td>0.09116</td>\n",
       "      <td>0.14020</td>\n",
       "      <td>0.10600</td>\n",
       "      <td>0.060900</td>\n",
       "      <td>...</td>\n",
       "      <td>34.37</td>\n",
       "      <td>161.10</td>\n",
       "      <td>1873.0</td>\n",
       "      <td>0.1498</td>\n",
       "      <td>0.48270</td>\n",
       "      <td>0.4634</td>\n",
       "      <td>0.20480</td>\n",
       "      <td>0.3679</td>\n",
       "      <td>0.09870</td>\n",
       "      <td>lung</td>\n",
       "    </tr>\n",
       "    <tr>\n",
       "      <th>1</th>\n",
       "      <td>1</td>\n",
       "      <td>M</td>\n",
       "      <td>13.610</td>\n",
       "      <td>24.69</td>\n",
       "      <td>87.76</td>\n",
       "      <td>572.6</td>\n",
       "      <td>0.09258</td>\n",
       "      <td>0.07862</td>\n",
       "      <td>0.05285</td>\n",
       "      <td>0.030850</td>\n",
       "      <td>...</td>\n",
       "      <td>35.64</td>\n",
       "      <td>113.20</td>\n",
       "      <td>848.7</td>\n",
       "      <td>0.1471</td>\n",
       "      <td>0.28840</td>\n",
       "      <td>0.3796</td>\n",
       "      <td>0.13290</td>\n",
       "      <td>0.3470</td>\n",
       "      <td>0.07900</td>\n",
       "      <td>heart</td>\n",
       "    </tr>\n",
       "    <tr>\n",
       "      <th>2</th>\n",
       "      <td>2</td>\n",
       "      <td>B</td>\n",
       "      <td>12.270</td>\n",
       "      <td>17.92</td>\n",
       "      <td>78.41</td>\n",
       "      <td>466.1</td>\n",
       "      <td>0.08685</td>\n",
       "      <td>0.06526</td>\n",
       "      <td>0.03211</td>\n",
       "      <td>0.026530</td>\n",
       "      <td>...</td>\n",
       "      <td>28.88</td>\n",
       "      <td>89.00</td>\n",
       "      <td>610.2</td>\n",
       "      <td>0.1240</td>\n",
       "      <td>0.17950</td>\n",
       "      <td>0.1377</td>\n",
       "      <td>0.09532</td>\n",
       "      <td>0.3455</td>\n",
       "      <td>0.06896</td>\n",
       "      <td>lung</td>\n",
       "    </tr>\n",
       "    <tr>\n",
       "      <th>3</th>\n",
       "      <td>3</td>\n",
       "      <td>B</td>\n",
       "      <td>11.340</td>\n",
       "      <td>18.61</td>\n",
       "      <td>72.76</td>\n",
       "      <td>391.2</td>\n",
       "      <td>0.10490</td>\n",
       "      <td>0.08499</td>\n",
       "      <td>0.04302</td>\n",
       "      <td>0.025940</td>\n",
       "      <td>...</td>\n",
       "      <td>23.03</td>\n",
       "      <td>79.15</td>\n",
       "      <td>478.6</td>\n",
       "      <td>0.1483</td>\n",
       "      <td>0.15740</td>\n",
       "      <td>0.1624</td>\n",
       "      <td>0.08542</td>\n",
       "      <td>0.3060</td>\n",
       "      <td>0.06783</td>\n",
       "      <td>heart</td>\n",
       "    </tr>\n",
       "    <tr>\n",
       "      <th>4</th>\n",
       "      <td>4</td>\n",
       "      <td>B</td>\n",
       "      <td>9.683</td>\n",
       "      <td>19.34</td>\n",
       "      <td>61.05</td>\n",
       "      <td>285.7</td>\n",
       "      <td>0.08491</td>\n",
       "      <td>0.05030</td>\n",
       "      <td>0.02337</td>\n",
       "      <td>0.009615</td>\n",
       "      <td>...</td>\n",
       "      <td>25.59</td>\n",
       "      <td>69.10</td>\n",
       "      <td>364.2</td>\n",
       "      <td>0.1199</td>\n",
       "      <td>0.09546</td>\n",
       "      <td>0.0935</td>\n",
       "      <td>0.03846</td>\n",
       "      <td>0.2552</td>\n",
       "      <td>0.07920</td>\n",
       "      <td>heart</td>\n",
       "    </tr>\n",
       "  </tbody>\n",
       "</table>\n",
       "<p>5 rows × 33 columns</p>\n",
       "</div>"
      ],
      "text/plain": [
       "   Unnamed: 0 diagnosis  radius_mean  texture_mean  perimeter_mean  area_mean  \\\n",
       "0           0         M       18.770         21.43          122.90     1092.0   \n",
       "1           1         M       13.610         24.69           87.76      572.6   \n",
       "2           2         B       12.270         17.92           78.41      466.1   \n",
       "3           3         B       11.340         18.61           72.76      391.2   \n",
       "4           4         B        9.683         19.34           61.05      285.7   \n",
       "\n",
       "   smoothness_mean  compactness_mean  concavity_mean  concave points_mean  \\\n",
       "0          0.09116           0.14020         0.10600             0.060900   \n",
       "1          0.09258           0.07862         0.05285             0.030850   \n",
       "2          0.08685           0.06526         0.03211             0.026530   \n",
       "3          0.10490           0.08499         0.04302             0.025940   \n",
       "4          0.08491           0.05030         0.02337             0.009615   \n",
       "\n",
       "   ...  texture_worst  perimeter_worst  area_worst  smoothness_worst  \\\n",
       "0  ...          34.37           161.10      1873.0            0.1498   \n",
       "1  ...          35.64           113.20       848.7            0.1471   \n",
       "2  ...          28.88            89.00       610.2            0.1240   \n",
       "3  ...          23.03            79.15       478.6            0.1483   \n",
       "4  ...          25.59            69.10       364.2            0.1199   \n",
       "\n",
       "   compactness_worst  concavity_worst  concave points_worst  symmetry_worst  \\\n",
       "0            0.48270           0.4634               0.20480          0.3679   \n",
       "1            0.28840           0.3796               0.13290          0.3470   \n",
       "2            0.17950           0.1377               0.09532          0.3455   \n",
       "3            0.15740           0.1624               0.08542          0.3060   \n",
       "4            0.09546           0.0935               0.03846          0.2552   \n",
       "\n",
       "   fractal_dimension_worst  precondition  \n",
       "0                  0.09870          lung  \n",
       "1                  0.07900         heart  \n",
       "2                  0.06896          lung  \n",
       "3                  0.06783         heart  \n",
       "4                  0.07920         heart  \n",
       "\n",
       "[5 rows x 33 columns]"
      ]
     },
     "execution_count": 16,
     "metadata": {},
     "output_type": "execute_result"
    }
   ],
   "source": [
    "df.head()"
   ]
  },
  {
   "cell_type": "code",
   "execution_count": 17,
   "metadata": {},
   "outputs": [
    {
     "data": {
      "text/plain": [
       "Unnamed: 0                 0\n",
       "diagnosis                  0\n",
       "radius_mean                0\n",
       "texture_mean               0\n",
       "perimeter_mean             0\n",
       "area_mean                  0\n",
       "smoothness_mean            0\n",
       "compactness_mean           0\n",
       "concavity_mean             0\n",
       "concave points_mean        0\n",
       "symmetry_mean              0\n",
       "fractal_dimension_mean     0\n",
       "radius_se                  0\n",
       "texture_se                 0\n",
       "perimeter_se               0\n",
       "area_se                    0\n",
       "smoothness_se              0\n",
       "compactness_se             0\n",
       "concavity_se               0\n",
       "concave points_se          0\n",
       "symmetry_se                0\n",
       "fractal_dimension_se       0\n",
       "radius_worst               0\n",
       "texture_worst              0\n",
       "perimeter_worst            0\n",
       "area_worst                 0\n",
       "smoothness_worst           0\n",
       "compactness_worst          0\n",
       "concavity_worst            0\n",
       "concave points_worst       0\n",
       "symmetry_worst             0\n",
       "fractal_dimension_worst    0\n",
       "precondition               0\n",
       "dtype: int64"
      ]
     },
     "execution_count": 17,
     "metadata": {},
     "output_type": "execute_result"
    }
   ],
   "source": [
    "df.isnull().sum()"
   ]
  },
  {
   "cell_type": "code",
   "execution_count": 18,
   "metadata": {},
   "outputs": [],
   "source": [
    "df=df.drop(columns=\"Unnamed: 0\", axis=1)"
   ]
  },
  {
   "cell_type": "code",
   "execution_count": 19,
   "metadata": {},
   "outputs": [],
   "source": [
    "X= df.drop([\"diagnosis\"], axis=1)\n",
    "Y= df.diagnosis"
   ]
  },
  {
   "cell_type": "code",
   "execution_count": 20,
   "metadata": {},
   "outputs": [],
   "source": [
    "X= pd.get_dummies(X, drop_first=True)"
   ]
  },
  {
   "cell_type": "code",
   "execution_count": 21,
   "metadata": {},
   "outputs": [],
   "source": [
    "X_train, X_test, Y_train, Y_test = train_test_split(X,Y, test_size =.2, random_state=42)"
   ]
  },
  {
   "cell_type": "code",
   "execution_count": 23,
   "metadata": {},
   "outputs": [
    {
     "data": {
      "text/plain": [
       "0.9824561403508771"
      ]
     },
     "execution_count": 23,
     "metadata": {},
     "output_type": "execute_result"
    }
   ],
   "source": [
    "randomF = RandomForestClassifier(n_estimators = 1000, max_depth =10)\n",
    "randomF.fit(X_train, Y_train)\n",
    "randomF.score(X_test, Y_test)"
   ]
  },
  {
   "cell_type": "code",
   "execution_count": 25,
   "metadata": {},
   "outputs": [
    {
     "data": {
      "text/plain": [
       "0.6274165202108963"
      ]
     },
     "execution_count": 25,
     "metadata": {},
     "output_type": "execute_result"
    }
   ],
   "source": [
    "np.mean(Y==\"B\") # 0.982 is a good accuracy because it is \n",
    "                # higher than the ratio of instances which belong to the majority class (0.627)"
   ]
  }
 ],
 "metadata": {
  "kernelspec": {
   "display_name": "Python 3",
   "language": "python",
   "name": "python3"
  },
  "language_info": {
   "codemirror_mode": {
    "name": "ipython",
    "version": 3
   },
   "file_extension": ".py",
   "mimetype": "text/x-python",
   "name": "python",
   "nbconvert_exporter": "python",
   "pygments_lexer": "ipython3",
   "version": "3.8.3"
  }
 },
 "nbformat": 4,
 "nbformat_minor": 4
}
